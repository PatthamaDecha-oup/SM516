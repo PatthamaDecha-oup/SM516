{
 "cells": [
  {
   "cell_type": "markdown",
   "metadata": {},
   "source": [
    "# <center> Statement"
   ]
  },
  {
   "cell_type": "markdown",
   "metadata": {},
   "source": [
    "<img src=\"https://drive.google.com/uc?id=1XpHQJ9sKzklxj5Tz01OkoqSbQ6xYQQAI\" align=right width=100>"
   ]
  },
  {
   "cell_type": "markdown",
   "metadata": {},
   "source": [
    "<div align= \"right\">ปัทมา เดชะอูป<br>รหัสนักศึกษา 1710511104018</div>"
   ]
  },
  {
   "cell_type": "markdown",
   "metadata": {},
   "source": [
    "**ลำดับขั้นของไพธอน (The Python Conceptual Hierardhy)**\n",
    "1. Programs are composed of modules.\n",
    "2. Modules contain statements.\n",
    "3. Statements contain expressions.\n",
    "4. Expressions create and process objects."
   ]
  },
  {
   "cell_type": "markdown",
   "metadata": {},
   "source": [
    "# Python Statement"
   ]
  },
  {
   "cell_type": "markdown",
   "metadata": {},
   "source": [
    "<table>\n",
    "    <tr>\n",
    "        <td><div align=center><b>Statement</b></div>\n",
    "        <td><div align=center><b>หน้าที่ (Role) </b></div>\n",
    "        <td><div align=center><b>ตัวอย่าง (Example) </b></div>\n",
    "     <tr>\n",
    "         <td>Assignment การให้ค่า\n",
    "         <td>Creating references สร้างการชี้ไปที่ค่า \n",
    "         <td><pre>a, b = 'good', 'bad'</pre>\n",
    "             <div align=center>ทางขวามือเรียกว่า Literals</div>\n",
    "     <tr> \n",
    "         <td>Calls and other expressions \n",
    "         <td><div align=center>Running functions \n",
    "         <td><div align=center>log.write(\"spam, ham\")\n",
    "    <tr> \n",
    "        <td>print calls \n",
    "        <td><div align=center>Printing objects \n",
    "        <td><div align=center>print('The Killer', joke)\n",
    "   <tr>\n",
    "       <td>if/elif/else \n",
    "       <td><div align=center>Selecting actions \n",
    "       <td><div align=center>if \"python\" in text:print(text)\n",
    "   <tr>\n",
    "       <td>for/else \n",
    "       <td><div align=center>Iteration \n",
    "       <td><div align=center>for x in mylist:print(x)\n",
    "   <tr>\n",
    "       <td>while/else \n",
    "       <td><div align=center>General loops \n",
    "       <td><div align=center>while X > Y:print('hello')\n",
    "   <tr>\n",
    "       <td>pass Empty \n",
    "       <td><div align=center>placeholder \n",
    "       <td><div align=center>while True:pass\n",
    "   <tr>\n",
    "       <td>break \n",
    "       <td><div align=center>Loop exit \n",
    "       <td><div align=center>while True:if exittest(): break\n",
    "   <tr>\n",
    "       <td>continue \n",
    "       <td><div align=center>Loop continue \n",
    "       <td><div align=center>while True:if skiptest(): continue\n",
    "   <tr>\n",
    "       <td>def \n",
    "       <td><div align=center>Functions and methods \n",
    "       <td><div align=center>def f(a, b, c=1, *d):print(a+b+c+d[0])\n",
    "   <tr>\n",
    "       <td>return \n",
    "       <td><div align=center>Functions results \n",
    "       <td><div align=center>def f(a, b, c=1, *d):return a+b+c+d[0]\n",
    "   <tr>\n",
    "       <td>yield \n",
    "       <td><div align=center>Generator functions \n",
    "       <td><div align=center>def gen(n):for i in n: yield i*2\n",
    "   <tr>\n",
    "       <td>global \n",
    "       <td><div align=center>Namespaces \n",
    "       <td><div align=center>x = 'old'def function():global x, y; x = 'new'\n",
    "   <tr>\n",
    "       <td>nonlocal \n",
    "       <td><div align=center>Namespaces (3.X) \n",
    "       <td><div align=center>def outer():x = 'old'def function():nonlocal x; x = 'new'\n",
    "   <tr>\n",
    "       <td>import \n",
    "       <td><div align=center>Module access \n",
    "       <td><div align=center>import sys\n",
    "   <tr>\n",
    "       <td>from \n",
    "       <td><div align=center>Attribute access \n",
    "       <td><div align=center>from sys import stdin\n",
    "   <tr>\n",
    "       <td>class \n",
    "       <td><div align=center>Building objects \n",
    "       <td><div align=center>class Subclass(Superclass):staticData = [] def method(self): pass\n",
    "   <tr>\n",
    "       <td>try/except/ finally \n",
    "       <td><div align=center>Catching exceptions \n",
    "       <td><div align=center>try:action() except:print('action error')\n",
    "   <tr>\n",
    "       <td>raise \n",
    "       <td><div align=center>Triggering exceptions \n",
    "       <td><div align=center>raise EndSearch(location)\n",
    "   <tr>\n",
    "       <td>assert \n",
    "       <td><div align=center>Debugging checks \n",
    "       <td><div align=center>assert X > Y, 'X too small'\n",
    "   <tr>\n",
    "       <td>with/as \n",
    "       <td><div align=center>Context managers (3.X, 2.6+) \n",
    "       <td><div align=center>with open('data') as myfile:process(myfile)\n",
    "   <tr>\n",
    "       <td>del \n",
    "       <td><div align=center>Deleting references \n",
    "       <td><div align=center>del data[k]\n",
    "              <div align=center>del data[i:j]\n",
    "              <div align=center>del obj.attr\n",
    "              <div align=center>del variable\n",
    "\n",
    "\n",
    "</table>"
   ]
  },
  {
   "cell_type": "markdown",
   "metadata": {},
   "source": [
    "Statemant บน Python มีลักษณะสำคัญ\n",
    "1. ใช้กั้นหน้า (Indent) บอก Statement ระดับของกั้นหน้า ตามเครื่องหมายทวิภาค (:)\n",
    "2. หลีกเลี่ยงการใช้วงเล็บ \"()\" วงเล็บใช้เก็บ (container) แบบ Tuple\n"
   ]
  },
  {
   "cell_type": "code",
   "execution_count": null,
   "metadata": {},
   "outputs": [],
   "source": [
    ":\n",
    "    :\n",
    "        :\n",
    "            :\n",
    "                :\n",
    "                    :\n",
    "                        "
   ]
  },
  {
   "cell_type": "markdown",
   "metadata": {},
   "source": [
    "กั้นหน้าทำให้ code ของ Python อ่านง่าย ทำให้ Python เป็นที่นิยมใช้กันทั่วไป"
   ]
  },
  {
   "cell_type": "markdown",
   "metadata": {},
   "source": [
    "# The Assignment Statement"
   ]
  },
  {
   "cell_type": "markdown",
   "metadata": {},
   "source": [
    "<pre>\n",
    "<i>\n",
    "target = expression\n",
    "target1 = target2 = expression\n",
    "target1, target2 = expression1, expression2\n",
    "target1 += expression\n",
    "target1, target2, ... = same-length-iterable\n",
    "(target1, target2, ...) = same-length-iterable\n",
    "[target1, target2, ...] = same-length-iterable\n",
    "target1, *target2, ... = matching-length-iterable"
   ]
  },
  {
   "cell_type": "markdown",
   "metadata": {},
   "source": [
    "#### Sequence Assignment"
   ]
  },
  {
   "cell_type": "code",
   "execution_count": 2,
   "metadata": {},
   "outputs": [
    {
     "data": {
      "text/plain": [
       "(1, 2)"
      ]
     },
     "execution_count": 2,
     "metadata": {},
     "output_type": "execute_result"
    }
   ],
   "source": [
    "nudge = 1\n",
    "wink = 2\n",
    "A, B = nudge, wink\n",
    "A, B"
   ]
  },
  {
   "cell_type": "code",
   "execution_count": 3,
   "metadata": {},
   "outputs": [
    {
     "data": {
      "text/plain": [
       "(1, 2)"
      ]
     },
     "execution_count": 3,
     "metadata": {},
     "output_type": "execute_result"
    }
   ],
   "source": [
    "[C, D] = [nudge, wink]\n",
    "C, D"
   ]
  },
  {
   "cell_type": "code",
   "execution_count": 4,
   "metadata": {},
   "outputs": [
    {
     "data": {
      "text/plain": [
       "(2, 1)"
      ]
     },
     "execution_count": 4,
     "metadata": {},
     "output_type": "execute_result"
    }
   ],
   "source": [
    "nudge = 1\n",
    "wink = 2\n",
    "nudge, wink = wink, nudge # Tuples: swaps values\n",
    "nudge, wink "
   ]
  },
  {
   "cell_type": "code",
   "execution_count": 5,
   "metadata": {},
   "outputs": [
    {
     "data": {
      "text/plain": [
       "(1, 3)"
      ]
     },
     "execution_count": 5,
     "metadata": {},
     "output_type": "execute_result"
    }
   ],
   "source": [
    "[a, b, c] = (1, 2, 3) # Assign tuple of values to list of names\n",
    "a, c"
   ]
  },
  {
   "cell_type": "code",
   "execution_count": 6,
   "metadata": {},
   "outputs": [
    {
     "data": {
      "text/plain": [
       "('A', 'C')"
      ]
     },
     "execution_count": 6,
     "metadata": {},
     "output_type": "execute_result"
    }
   ],
   "source": [
    "(a, b, c) = \"ABC\" # Assign string of characters to tuple\n",
    "a, c"
   ]
  },
  {
   "cell_type": "code",
   "execution_count": null,
   "metadata": {},
   "outputs": [],
   "source": []
  }
 ],
 "metadata": {
  "kernelspec": {
   "display_name": "Python 3",
   "language": "python",
   "name": "python3"
  },
  "language_info": {
   "codemirror_mode": {
    "name": "ipython",
    "version": 3
   },
   "file_extension": ".py",
   "mimetype": "text/x-python",
   "name": "python",
   "nbconvert_exporter": "python",
   "pygments_lexer": "ipython3",
   "version": "3.8.7"
  }
 },
 "nbformat": 4,
 "nbformat_minor": 4
}
